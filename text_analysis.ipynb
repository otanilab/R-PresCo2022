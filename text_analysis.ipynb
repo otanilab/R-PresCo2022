{
 "cells": [
  {
   "cell_type": "code",
   "execution_count": 1,
   "id": "dbfd4ab4",
   "metadata": {},
   "outputs": [],
   "source": [
    "import MeCab"
   ]
  },
  {
   "cell_type": "code",
   "execution_count": 2,
   "id": "b058750c",
   "metadata": {},
   "outputs": [],
   "source": [
    "# わかち書きにして返す関数\n",
    "def wakati(txt):\n",
    "    tagger = MeCab.Tagger(\"-Owakati\")\n",
    "    result = tagger.parse(txt).split()\n",
    "    return result"
   ]
  },
  {
   "cell_type": "code",
   "execution_count": 3,
   "id": "978f9ee7",
   "metadata": {},
   "outputs": [],
   "source": [
    "# 単語の解析結果を返す関数\n",
    "def analysis(txt):\n",
    "    tagger = MeCab.Tagger()\n",
    "    morpheme = tagger.parse(txt).split()\n",
    "    surface, result = morpheme[0], morpheme[1]\n",
    "    result = result.split(',')\n",
    "    dict = {\n",
    "        'surface': surface,\n",
    "        'pos': result[0],\n",
    "        'base': result[6]\n",
    "    }\n",
    "    return dict"
   ]
  },
  {
   "cell_type": "code",
   "execution_count": 4,
   "id": "e4b6d92e",
   "metadata": {},
   "outputs": [
    {
     "data": {
      "text/plain": [
       "{'surface': '入学', 'pos': '名詞', 'base': '入学'}"
      ]
     },
     "metadata": {},
     "output_type": "display_data"
    },
    {
     "data": {
      "text/plain": [
       "{'surface': '式', 'pos': '名詞', 'base': '式'}"
      ]
     },
     "metadata": {},
     "output_type": "display_data"
    }
   ],
   "source": [
    "words = wakati('入学式')\n",
    "for w in words:\n",
    "    r = analysis(w)\n",
    "    display(r)"
   ]
  }
 ],
 "metadata": {
  "kernelspec": {
   "display_name": "Python 3 (ipykernel)",
   "language": "python",
   "name": "python3"
  },
  "language_info": {
   "codemirror_mode": {
    "name": "ipython",
    "version": 3
   },
   "file_extension": ".py",
   "mimetype": "text/x-python",
   "name": "python",
   "nbconvert_exporter": "python",
   "pygments_lexer": "ipython3",
   "version": "3.8.10"
  }
 },
 "nbformat": 4,
 "nbformat_minor": 5
}
