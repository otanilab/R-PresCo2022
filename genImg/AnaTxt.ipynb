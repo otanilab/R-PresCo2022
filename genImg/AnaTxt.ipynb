{
 "cells": [
  {
   "cell_type": "code",
   "execution_count": 8,
   "metadata": {},
   "outputs": [],
   "source": [
    "import pandas as pd"
   ]
  },
  {
   "cell_type": "code",
   "execution_count": 19,
   "metadata": {},
   "outputs": [],
   "source": [
    "df = pd.read_csv('R-PresCo.csv')"
   ]
  },
  {
   "cell_type": "code",
   "execution_count": 18,
   "metadata": {},
   "outputs": [],
   "source": [
    "df = df[df['あなたが期待していた行事が新型コロナウイルスによってできなかった経験はありますか?'] == \"ある\"]"
   ]
  },
  {
   "cell_type": "code",
   "execution_count": 17,
   "metadata": {},
   "outputs": [
    {
     "data": {
      "text/html": [
       "<div>\n",
       "<style scoped>\n",
       "    .dataframe tbody tr th:only-of-type {\n",
       "        vertical-align: middle;\n",
       "    }\n",
       "\n",
       "    .dataframe tbody tr th {\n",
       "        vertical-align: top;\n",
       "    }\n",
       "\n",
       "    .dataframe thead th {\n",
       "        text-align: right;\n",
       "    }\n",
       "</style>\n",
       "<table border=\"1\" class=\"dataframe\">\n",
       "  <thead>\n",
       "    <tr style=\"text-align: right;\">\n",
       "      <th></th>\n",
       "      <th>1つめ</th>\n",
       "      <th>1つめ.1</th>\n",
       "    </tr>\n",
       "  </thead>\n",
       "  <tbody>\n",
       "    <tr>\n",
       "      <th>1</th>\n",
       "      <td>サークルのライブに参加し、同じ趣味の人達と、友達になっていた。</td>\n",
       "      <td>ワイワイ</td>\n",
       "    </tr>\n",
       "    <tr>\n",
       "      <th>2</th>\n",
       "      <td>ディズニーの年パスを作成し、放課後にディズニーに行ってエレクトリカルパレードだけ観て帰る。趣...</td>\n",
       "      <td>楽しい、充実感</td>\n",
       "    </tr>\n",
       "  </tbody>\n",
       "</table>\n",
       "</div>"
      ],
      "text/plain": [
       "                                                 1つめ    1つめ.1\n",
       "1                    サークルのライブに参加し、同じ趣味の人達と、友達になっていた。     ワイワイ\n",
       "2  ディズニーの年パスを作成し、放課後にディズニーに行ってエレクトリカルパレードだけ観て帰る。趣...  楽しい、充実感"
      ]
     },
     "execution_count": 17,
     "metadata": {},
     "output_type": "execute_result"
    }
   ],
   "source": [
    "df1 = df.iloc[:,3:9:5]\n",
    "df1"
   ]
  },
  {
   "cell_type": "code",
   "execution_count": 47,
   "metadata": {},
   "outputs": [],
   "source": [
    "import csv\n",
    "import pprint"
   ]
  },
  {
   "cell_type": "code",
   "execution_count": 63,
   "metadata": {},
   "outputs": [
    {
     "data": {
      "text/plain": [
       "[['タイムスタンプ',\n",
       "  '性別',\n",
       "  'あなたが期待していた行事が新型コロナウイルスによってできなかった経験はありますか?',\n",
       "  '1つめ',\n",
       "  '2つめ',\n",
       "  '3つめ',\n",
       "  '4つめ',\n",
       "  '5つめ',\n",
       "  '1つめ',\n",
       "  '2つめ',\n",
       "  '3つめ',\n",
       "  '4つめ',\n",
       "  '5つめ'],\n",
       " ['2022/09/19 4:15:10 午後 GMT+9',\n",
       "  '男',\n",
       "  'ある',\n",
       "  'サークルのライブに参加し、同じ趣味の人達と、友達になっていた。',\n",
       "  '',\n",
       "  '',\n",
       "  '',\n",
       "  '',\n",
       "  'ワイワイ',\n",
       "  '楽しい',\n",
       "  'ハッピー',\n",
       "  '',\n",
       "  ''],\n",
       " ['2022/09/19 7:50:10 午後 GMT+9',\n",
       "  '男',\n",
       "  'ある',\n",
       "  'ディズニーの年パスを作成し、放課後にディズニーに行ってエレクトリカルパレードだけ観て帰る。趣味仲間を増やす。',\n",
       "  '学園祭に参加して、出し物を出し、仲の良い友達を増やす。交流を深める。',\n",
       "  '',\n",
       "  '',\n",
       "  '',\n",
       "  '楽しい、充実感',\n",
       "  '達成感',\n",
       "  '',\n",
       "  '',\n",
       "  '']]"
      ]
     },
     "metadata": {},
     "output_type": "display_data"
    }
   ],
   "source": [
    "with open('R-PresCo.csv') as f:\n",
    "    reader = csv.reader(f)\n",
    "    rows = [row for row in reader]\n",
    "    for i in range(len(rows)):\n",
    "        if rows[i-1][2] == \"ない\":\n",
    "            del rows[i-1]\n",
    "    display(rows)"
   ]
  },
  {
   "cell_type": "code",
   "execution_count": 64,
   "metadata": {},
   "outputs": [],
   "source": [
    "import MeCab"
   ]
  },
  {
   "cell_type": "code",
   "execution_count": 72,
   "metadata": {},
   "outputs": [],
   "source": [
    "class Words:\n",
    "    def __init__(self, sentence):\n",
    "        tagger = MeCab.Tagger(\"-Owakati\")\n",
    "        self.words = tagger.parse(sentence).split()"
   ]
  },
  {
   "cell_type": "code",
   "execution_count": 132,
   "metadata": {},
   "outputs": [],
   "source": [
    "class Morpheme:\n",
    "    def __init__(self, words):\n",
    "        self.bases = []\n",
    "        tagger = MeCab.Tagger()\n",
    "        for word in words:\n",
    "            print(word)\n",
    "            results = tagger.parse(word).split()\n",
    "            print(results[3])\n",
    "            self.bases.append(results)"
   ]
  },
  {
   "cell_type": "code",
   "execution_count": 127,
   "metadata": {},
   "outputs": [],
   "source": [
    "txt = \"怖い話\""
   ]
  },
  {
   "cell_type": "code",
   "execution_count": 128,
   "metadata": {},
   "outputs": [
    {
     "data": {
      "text/plain": [
       "['怖い', '話']"
      ]
     },
     "execution_count": 128,
     "metadata": {},
     "output_type": "execute_result"
    }
   ],
   "source": [
    "words = Words(txt).words\n",
    "words"
   ]
  },
  {
   "cell_type": "code",
   "execution_count": 133,
   "metadata": {},
   "outputs": [
    {
     "name": "stdout",
     "output_type": "stream",
     "text": [
      "怖い\n",
      "コワイ\n",
      "話\n",
      "ハナシ\n"
     ]
    },
    {
     "data": {
      "text/plain": [
       "[['怖い', 'コワイ', 'コワイ', '怖い', '形容詞-一般', '形容詞', '終止形-一般', '2', 'EOS'],\n",
       " ['話', 'ハナシ', 'ハナシ', '話', '名詞-普通名詞-サ変可能', '3', 'EOS']]"
      ]
     },
     "execution_count": 133,
     "metadata": {},
     "output_type": "execute_result"
    }
   ],
   "source": [
    "Morpheme(words).bases"
   ]
  }
 ],
 "metadata": {
  "kernelspec": {
   "display_name": "Python 3.10.4 64-bit ('3.10.4')",
   "language": "python",
   "name": "python3"
  },
  "language_info": {
   "codemirror_mode": {
    "name": "ipython",
    "version": 3
   },
   "file_extension": ".py",
   "mimetype": "text/x-python",
   "name": "python",
   "nbconvert_exporter": "python",
   "pygments_lexer": "ipython3",
   "version": "3.10.4"
  },
  "orig_nbformat": 4,
  "vscode": {
   "interpreter": {
    "hash": "53c491ca9ba71bacfa922eff7f8880bef606847443290bcf8ce088a41d2d829f"
   }
  }
 },
 "nbformat": 4,
 "nbformat_minor": 2
}
